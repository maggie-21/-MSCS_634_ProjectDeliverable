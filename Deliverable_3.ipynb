{
 "cells": [
  {
   "cell_type": "markdown",
   "id": "b844ce19",
   "metadata": {},
   "source": [
    "**Name:** Muluwork Geremew \n",
    "\n",
    "**Course:** Advanced Big Data and Data Mining  \n",
    "**Project:** Advanced Data Mining for Data-Driven Insights and Predictive Modeling (Deliverbale 1)"
   ]
  }
 ],
 "metadata": {
  "language_info": {
   "name": "python"
  }
 },
 "nbformat": 4,
 "nbformat_minor": 5
}
